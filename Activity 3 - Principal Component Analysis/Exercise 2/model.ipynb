{
 "cells": [
  {
   "cell_type": "code",
   "execution_count": 1,
   "id": "66905906",
   "metadata": {},
   "outputs": [],
   "source": [
    "import pandas as pd\n",
    "import numpy as np"
   ]
  },
  {
   "cell_type": "code",
   "execution_count": 2,
   "id": "0d04773b",
   "metadata": {},
   "outputs": [],
   "source": [
    "data = {\n",
    "    \"Variable\": [\"Climate\",\"Housing\",\"Health\",\"Crime\",\"Transportation\",\n",
    "                 \"Education\",\"Arts\",\"Recreation\",\"Economy\"],\n",
    "    \"PC1\": [0.190,0.544,0.782,0.365,0.585,0.394,0.985,0.520,0.142],\n",
    "    \"PC2\": [0.017,0.020,-0.605,0.294,0.085,-0.273,0.126,0.402,0.150],\n",
    "    \"PC3\": [0.207,0.204,0.144,0.585,0.234,0.027,-0.111,0.519,0.239]\n",
    "}"
   ]
  },
  {
   "cell_type": "code",
   "execution_count": 3,
   "id": "b661f4f0",
   "metadata": {},
   "outputs": [],
   "source": [
    "df = pd.DataFrame(data)\n",
    "df.set_index(\"Variable\", inplace=True)"
   ]
  },
  {
   "cell_type": "code",
   "execution_count": 4,
   "id": "4eef56e2",
   "metadata": {},
   "outputs": [
    {
     "name": "stdout",
     "output_type": "stream",
     "text": [
      "PCA Loadings Table:\n",
      "                  PC1    PC2    PC3\n",
      "Variable                           \n",
      "Climate         0.190  0.017  0.207\n",
      "Housing         0.544  0.020  0.204\n",
      "Health          0.782 -0.605  0.144\n",
      "Crime           0.365  0.294  0.585\n",
      "Transportation  0.585  0.085  0.234\n",
      "Education       0.394 -0.273  0.027\n",
      "Arts            0.985  0.126 -0.111\n",
      "Recreation      0.520  0.402  0.519\n",
      "Economy         0.142  0.150  0.239 \n",
      "\n"
     ]
    }
   ],
   "source": [
    "print(\"PCA Loadings Table:\")\n",
    "print(df, \"\\n\")"
   ]
  },
  {
   "cell_type": "code",
   "execution_count": 9,
   "id": "ccab7cb2",
   "metadata": {},
   "outputs": [],
   "source": [
    "max_variables = df.abs().idxmax()  \n",
    "max_loadings = []\n",
    "for pc in df.columns:\n",
    "    var = max_variables[pc]\n",
    "    loading = df.loc[var, pc]\n",
    "    max_loadings.append(loading)\n"
   ]
  },
  {
   "cell_type": "code",
   "execution_count": 10,
   "id": "a8298a01",
   "metadata": {},
   "outputs": [],
   "source": [
    "result = pd.DataFrame({\n",
    "    \"Principal Component\": df.columns,\n",
    "    \"Dominant Variable\": max_variables.values,\n",
    "    \"Loading Value\": max_loadings\n",
    "})"
   ]
  },
  {
   "cell_type": "code",
   "execution_count": 11,
   "id": "ad7f9ba0",
   "metadata": {},
   "outputs": [
    {
     "name": "stdout",
     "output_type": "stream",
     "text": [
      "Dominant variable for each Principal Component:\n",
      "  Principal Component Dominant Variable  Loading Value\n",
      "0                 PC1              Arts          0.985\n",
      "1                 PC2            Health         -0.605\n",
      "2                 PC3             Crime          0.585\n"
     ]
    }
   ],
   "source": [
    "print(\"Dominant variable for each Principal Component:\")\n",
    "print(result)"
   ]
  }
 ],
 "metadata": {
  "kernelspec": {
   "display_name": "tf",
   "language": "python",
   "name": "python3"
  },
  "language_info": {
   "codemirror_mode": {
    "name": "ipython",
    "version": 3
   },
   "file_extension": ".py",
   "mimetype": "text/x-python",
   "name": "python",
   "nbconvert_exporter": "python",
   "pygments_lexer": "ipython3",
   "version": "3.9.18"
  }
 },
 "nbformat": 4,
 "nbformat_minor": 5
}
